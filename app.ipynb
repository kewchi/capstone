{
  "nbformat": 4,
  "nbformat_minor": 0,
  "metadata": {
    "colab": {
      "provenance": []
    },
    "kernelspec": {
      "name": "python3",
      "display_name": "Python 3"
    },
    "language_info": {
      "name": "python"
    }
  },
  "cells": [
    {
      "cell_type": "code",
      "source": [
        "!pip install streamlit"
      ],
      "metadata": {
        "colab": {
          "base_uri": "https://localhost:8080/"
        },
        "id": "7YkmPuK0RHLa",
        "outputId": "abbe79ac-15f5-4275-8177-c57c2883c97b"
      },
      "execution_count": 2,
      "outputs": [
        {
          "output_type": "stream",
          "name": "stdout",
          "text": [
            "Collecting streamlit\n",
            "  Downloading streamlit-1.31.1-py2.py3-none-any.whl (8.4 MB)\n",
            "\u001b[2K     \u001b[90m━━━━━━━━━━━━━━━━━━━━━━━━━━━━━━━━━━━━━━━━\u001b[0m \u001b[32m8.4/8.4 MB\u001b[0m \u001b[31m23.2 MB/s\u001b[0m eta \u001b[36m0:00:00\u001b[0m\n",
            "\u001b[?25hRequirement already satisfied: altair<6,>=4.0 in /usr/local/lib/python3.10/dist-packages (from streamlit) (4.2.2)\n",
            "Requirement already satisfied: blinker<2,>=1.0.0 in /usr/lib/python3/dist-packages (from streamlit) (1.4)\n",
            "Requirement already satisfied: cachetools<6,>=4.0 in /usr/local/lib/python3.10/dist-packages (from streamlit) (5.3.2)\n",
            "Requirement already satisfied: click<9,>=7.0 in /usr/local/lib/python3.10/dist-packages (from streamlit) (8.1.7)\n",
            "Requirement already satisfied: importlib-metadata<8,>=1.4 in /usr/local/lib/python3.10/dist-packages (from streamlit) (7.0.1)\n",
            "Requirement already satisfied: numpy<2,>=1.19.3 in /usr/local/lib/python3.10/dist-packages (from streamlit) (1.25.2)\n",
            "Requirement already satisfied: packaging<24,>=16.8 in /usr/local/lib/python3.10/dist-packages (from streamlit) (23.2)\n",
            "Requirement already satisfied: pandas<3,>=1.3.0 in /usr/local/lib/python3.10/dist-packages (from streamlit) (1.5.3)\n",
            "Requirement already satisfied: pillow<11,>=7.1.0 in /usr/local/lib/python3.10/dist-packages (from streamlit) (9.4.0)\n",
            "Requirement already satisfied: protobuf<5,>=3.20 in /usr/local/lib/python3.10/dist-packages (from streamlit) (3.20.3)\n",
            "Requirement already satisfied: pyarrow>=7.0 in /usr/local/lib/python3.10/dist-packages (from streamlit) (10.0.1)\n",
            "Requirement already satisfied: python-dateutil<3,>=2.7.3 in /usr/local/lib/python3.10/dist-packages (from streamlit) (2.8.2)\n",
            "Requirement already satisfied: requests<3,>=2.27 in /usr/local/lib/python3.10/dist-packages (from streamlit) (2.31.0)\n",
            "Requirement already satisfied: rich<14,>=10.14.0 in /usr/local/lib/python3.10/dist-packages (from streamlit) (13.7.0)\n",
            "Requirement already satisfied: tenacity<9,>=8.1.0 in /usr/local/lib/python3.10/dist-packages (from streamlit) (8.2.3)\n",
            "Requirement already satisfied: toml<2,>=0.10.1 in /usr/local/lib/python3.10/dist-packages (from streamlit) (0.10.2)\n",
            "Requirement already satisfied: typing-extensions<5,>=4.3.0 in /usr/local/lib/python3.10/dist-packages (from streamlit) (4.9.0)\n",
            "Requirement already satisfied: tzlocal<6,>=1.1 in /usr/local/lib/python3.10/dist-packages (from streamlit) (5.2)\n",
            "Collecting validators<1,>=0.2 (from streamlit)\n",
            "  Downloading validators-0.22.0-py3-none-any.whl (26 kB)\n",
            "Collecting gitpython!=3.1.19,<4,>=3.0.7 (from streamlit)\n",
            "  Downloading GitPython-3.1.42-py3-none-any.whl (195 kB)\n",
            "\u001b[2K     \u001b[90m━━━━━━━━━━━━━━━━━━━━━━━━━━━━━━━━━━━━━━━━\u001b[0m \u001b[32m195.4/195.4 kB\u001b[0m \u001b[31m23.3 MB/s\u001b[0m eta \u001b[36m0:00:00\u001b[0m\n",
            "\u001b[?25hCollecting pydeck<1,>=0.8.0b4 (from streamlit)\n",
            "  Downloading pydeck-0.8.1b0-py2.py3-none-any.whl (4.8 MB)\n",
            "\u001b[2K     \u001b[90m━━━━━━━━━━━━━━━━━━━━━━━━━━━━━━━━━━━━━━━━\u001b[0m \u001b[32m4.8/4.8 MB\u001b[0m \u001b[31m53.5 MB/s\u001b[0m eta \u001b[36m0:00:00\u001b[0m\n",
            "\u001b[?25hRequirement already satisfied: tornado<7,>=6.0.3 in /usr/local/lib/python3.10/dist-packages (from streamlit) (6.3.2)\n",
            "Collecting watchdog>=2.1.5 (from streamlit)\n",
            "  Downloading watchdog-4.0.0-py3-none-manylinux2014_x86_64.whl (82 kB)\n",
            "\u001b[2K     \u001b[90m━━━━━━━━━━━━━━━━━━━━━━━━━━━━━━━━━━━━━━━━\u001b[0m \u001b[32m83.0/83.0 kB\u001b[0m \u001b[31m11.9 MB/s\u001b[0m eta \u001b[36m0:00:00\u001b[0m\n",
            "\u001b[?25hRequirement already satisfied: entrypoints in /usr/local/lib/python3.10/dist-packages (from altair<6,>=4.0->streamlit) (0.4)\n",
            "Requirement already satisfied: jinja2 in /usr/local/lib/python3.10/dist-packages (from altair<6,>=4.0->streamlit) (3.1.3)\n",
            "Requirement already satisfied: jsonschema>=3.0 in /usr/local/lib/python3.10/dist-packages (from altair<6,>=4.0->streamlit) (4.19.2)\n",
            "Requirement already satisfied: toolz in /usr/local/lib/python3.10/dist-packages (from altair<6,>=4.0->streamlit) (0.12.1)\n",
            "Collecting gitdb<5,>=4.0.1 (from gitpython!=3.1.19,<4,>=3.0.7->streamlit)\n",
            "  Downloading gitdb-4.0.11-py3-none-any.whl (62 kB)\n",
            "\u001b[2K     \u001b[90m━━━━━━━━━━━━━━━━━━━━━━━━━━━━━━━━━━━━━━━━\u001b[0m \u001b[32m62.7/62.7 kB\u001b[0m \u001b[31m8.4 MB/s\u001b[0m eta \u001b[36m0:00:00\u001b[0m\n",
            "\u001b[?25hRequirement already satisfied: zipp>=0.5 in /usr/local/lib/python3.10/dist-packages (from importlib-metadata<8,>=1.4->streamlit) (3.17.0)\n",
            "Requirement already satisfied: pytz>=2020.1 in /usr/local/lib/python3.10/dist-packages (from pandas<3,>=1.3.0->streamlit) (2023.4)\n",
            "Requirement already satisfied: six>=1.5 in /usr/local/lib/python3.10/dist-packages (from python-dateutil<3,>=2.7.3->streamlit) (1.16.0)\n",
            "Requirement already satisfied: charset-normalizer<4,>=2 in /usr/local/lib/python3.10/dist-packages (from requests<3,>=2.27->streamlit) (3.3.2)\n",
            "Requirement already satisfied: idna<4,>=2.5 in /usr/local/lib/python3.10/dist-packages (from requests<3,>=2.27->streamlit) (3.6)\n",
            "Requirement already satisfied: urllib3<3,>=1.21.1 in /usr/local/lib/python3.10/dist-packages (from requests<3,>=2.27->streamlit) (2.0.7)\n",
            "Requirement already satisfied: certifi>=2017.4.17 in /usr/local/lib/python3.10/dist-packages (from requests<3,>=2.27->streamlit) (2024.2.2)\n",
            "Requirement already satisfied: markdown-it-py>=2.2.0 in /usr/local/lib/python3.10/dist-packages (from rich<14,>=10.14.0->streamlit) (3.0.0)\n",
            "Requirement already satisfied: pygments<3.0.0,>=2.13.0 in /usr/local/lib/python3.10/dist-packages (from rich<14,>=10.14.0->streamlit) (2.16.1)\n",
            "Collecting smmap<6,>=3.0.1 (from gitdb<5,>=4.0.1->gitpython!=3.1.19,<4,>=3.0.7->streamlit)\n",
            "  Downloading smmap-5.0.1-py3-none-any.whl (24 kB)\n",
            "Requirement already satisfied: MarkupSafe>=2.0 in /usr/local/lib/python3.10/dist-packages (from jinja2->altair<6,>=4.0->streamlit) (2.1.5)\n",
            "Requirement already satisfied: attrs>=22.2.0 in /usr/local/lib/python3.10/dist-packages (from jsonschema>=3.0->altair<6,>=4.0->streamlit) (23.2.0)\n",
            "Requirement already satisfied: jsonschema-specifications>=2023.03.6 in /usr/local/lib/python3.10/dist-packages (from jsonschema>=3.0->altair<6,>=4.0->streamlit) (2023.12.1)\n",
            "Requirement already satisfied: referencing>=0.28.4 in /usr/local/lib/python3.10/dist-packages (from jsonschema>=3.0->altair<6,>=4.0->streamlit) (0.33.0)\n",
            "Requirement already satisfied: rpds-py>=0.7.1 in /usr/local/lib/python3.10/dist-packages (from jsonschema>=3.0->altair<6,>=4.0->streamlit) (0.17.1)\n",
            "Requirement already satisfied: mdurl~=0.1 in /usr/local/lib/python3.10/dist-packages (from markdown-it-py>=2.2.0->rich<14,>=10.14.0->streamlit) (0.1.2)\n",
            "Installing collected packages: watchdog, validators, smmap, pydeck, gitdb, gitpython, streamlit\n",
            "Successfully installed gitdb-4.0.11 gitpython-3.1.42 pydeck-0.8.1b0 smmap-5.0.1 streamlit-1.31.1 validators-0.22.0 watchdog-4.0.0\n"
          ]
        }
      ]
    },
    {
      "cell_type": "code",
      "execution_count": 3,
      "metadata": {
        "id": "efH5AodXq1Sp",
        "colab": {
          "base_uri": "https://localhost:8080/",
          "height": 211
        },
        "outputId": "89794350-f57b-4892-f4e4-7ca2a427c824"
      },
      "outputs": [
        {
          "output_type": "error",
          "ename": "FileNotFoundError",
          "evalue": "[Errno 2] No such file or directory: 'rf.pkl'",
          "traceback": [
            "\u001b[0;31m---------------------------------------------------------------------------\u001b[0m",
            "\u001b[0;31mFileNotFoundError\u001b[0m                         Traceback (most recent call last)",
            "\u001b[0;32m<ipython-input-3-beb0f36e3473>\u001b[0m in \u001b[0;36m<cell line: 10>\u001b[0;34m()\u001b[0m\n\u001b[1;32m      8\u001b[0m \u001b[0;34m\u001b[0m\u001b[0m\n\u001b[1;32m      9\u001b[0m \u001b[0;31m# loading the trained model\u001b[0m\u001b[0;34m\u001b[0m\u001b[0;34m\u001b[0m\u001b[0m\n\u001b[0;32m---> 10\u001b[0;31m \u001b[0mpickle_in\u001b[0m \u001b[0;34m=\u001b[0m \u001b[0mopen\u001b[0m\u001b[0;34m(\u001b[0m\u001b[0;34m'rf.pkl'\u001b[0m\u001b[0;34m,\u001b[0m \u001b[0;34m'rb'\u001b[0m\u001b[0;34m)\u001b[0m\u001b[0;34m\u001b[0m\u001b[0;34m\u001b[0m\u001b[0m\n\u001b[0m\u001b[1;32m     11\u001b[0m \u001b[0mmodel\u001b[0m \u001b[0;34m=\u001b[0m \u001b[0mpickle\u001b[0m\u001b[0;34m.\u001b[0m\u001b[0mload\u001b[0m\u001b[0;34m(\u001b[0m\u001b[0mpickle_in\u001b[0m\u001b[0;34m)\u001b[0m\u001b[0;34m\u001b[0m\u001b[0;34m\u001b[0m\u001b[0m\n\u001b[1;32m     12\u001b[0m \u001b[0;34m\u001b[0m\u001b[0m\n",
            "\u001b[0;31mFileNotFoundError\u001b[0m: [Errno 2] No such file or directory: 'rf.pkl'"
          ]
        }
      ],
      "source": [
        "import pickle\n",
        "import streamlit as st\n",
        "import pandas as pd\n",
        "from sklearn.preprocessing import LabelEncoder\n",
        "\n",
        "header = st.container()\n",
        "application = st.container()\n",
        "\n",
        "# loading the trained model\n",
        "pickle_in = open('rf.pkl', 'rb')\n",
        "model = pickle.load(pickle_in)\n",
        "\n",
        "# defining the function to give the output using the user input\n",
        "def output(diagnosis, prescription):\n",
        "  le = LabelEncoder()\n",
        "  diagnosis = le.fit_transform([diagnosis])\n",
        "  prescription = le.fit_transform([prescription])\n",
        "\n",
        "  #predicting if it is voided or not\n",
        "  output = model.predict([[diagnosis, prescription]])\n",
        "\n",
        "  if output == 0:\n",
        "      res = 'Not Voided'\n",
        "  else:\n",
        "      res = 'Voided'\n",
        "  return res\n",
        "\n",
        "with header:\n",
        "    st.title('Diagnosis-based prescription error detection')\n",
        "\n",
        "with application:\n",
        "    st.header('Instructions')\n",
        "    st.text('Choose a diagnosis from the drop down list and enter the values accordingly')\n",
        "    st.text('--------------------------------------------------------------------------')\n",
        "    sel_col, disp_col = st.columns(2)\n",
        "\n",
        "    diagnosis = sel_col.selectbox('Please Select a Diagnosis',\n",
        "                                       options=['HYPERMETROPIA', 'HYPOTONY', 'ACCOMODATION AND CONVERGENCE ABNORMALITIES','DIABETIC MACULAR ISCHAEMIA-DIABETIC MACULOPATHY', 'DISCIFORM KERATITIS-HERPES SIMPLEX KERATITIS',\n",
        "                                                'LATENT ANGLE-CLOSURE GLAUCOMA-PRIMARY ANGLE-CLOSURE GLAUCOMA', 'LID LESION', 'FUCHS ENDOTHELIAL DYSTROPHY-CORNEAL DYSTROPHIES', 'GLAUCOMA SUSPECT',\n",
        "                                                'CHRONIC ANGLE-CLOSURE GLAUCOMA-PRIMARY ANGLE-CLOSURE GLAUCOMA','CONGENITAL GLAUCOMA', 'ACQUIRED NASOLACRIMAL DUCT OBSTRUCTION-LACRIMAL OBSTRUCTION','EPIBLEPHARON-MISCELLANEOUS CONGENITAL DISORDERS', 'ESOTROPIA', 'ACTIVE TED-THYROID EYE DISEASE',\n",
        "                                                'ACUTE ALLERGIC OEDEMA-ALLERGIC DISORDERS', 'ADENOVIRAL KERATOCONJUCTIVITIS-VIRAL CONJUNCTIVITIS', 'BAND KERATOPATHY-CORNEAL DEGENERATIONS' 'BLUNT TRAUMA-GLOBE TRAUMA', 'CENTRAL RETINAL ARTERY OCCLUSION-RETINAL ARTERY OCCLUSION',\n",
        "                                                'INFLAMMATORY GLAUCOMA' ,'IOL OPACIFICATION' ,'CORNEA HAZE', 'DELLEN-PERIPHERAL CORNEAL DISORDERS', 'EXUDATIVE MYOPIC MACULOPATHY-MYOPIC MACULOPATHY',\n",
        "                                                'EXTERNAL HORDEOLUM-BENIGN NODULES AND CYSTS' ,'ENDOPHTHALMITIS', 'FILAMENTARY KERATITIS' ,'HEMIFACIAL SPASM', 'IDIOPATHIC MACULAR HOLE', 'HEMIRETINAL VEIN OCCLUSION-RETINAL VEIN OCCLUSION', 'MACULAR HOLE',\n",
        "                                                'NYSTAGMUS', 'HERPES SIMPLEX CONJUNCTIVITIS-VIRAL CONJUNCTIVITIS', 'HETEROPHORIA'])\n",
        "\n",
        "    prescription = sel_col.selectbox('Please Select a Medication to Prescribe',\n",
        "                                       options=['FUCITHALMIC 10mg/g', 'NEVANAC (Nepafenac 0.1%)', 'PATADAY (Olopatadine HCL 0.2%)', 'TIMOLOL-POS 0.5%', 'CUSIVIRAL', 'VITAMODE ASTA I - CARE CAPSULE', 'HIALID 0.1%', 'OPTIVE FUSION MD 5ML',\n",
        "                                                'OPTIVE FUSION MD 10ML', 'SYSTANE LID CARE WIPE', 'ARCOXIA 50MG', 'ZYMAXID 0.5%', 'DUOTRAV (BAK FREE) (Travoprost 40mcg + Timolol 5mg',\n",
        "                                                'RELESTAT (Epinastine HCL 0.5mg)', 'FML 0.5%', 'VISMED MULTI 0.18%', 'CRAVIT 0.5%', 'PREDNISOLONE', 'SYSTANE HYDRATION (UNIT DOSE)', 'HYLO GEL',\n",
        "                                                'BIO-VIZMAX CAPS', 'TAFLOTAN ', 'FML 0.1%','OPTIVE FUSION (UNIT DOSE) 30X0.4ML', 'TIMO-COMOD 0.5%', 'CETRIZINE 10mg',\n",
        "                                                'TOBRADEX', 'AZYTER 15MG/G (0.25G 6S)', 'BIO-MARINE PLUS CAPSULES','SYSTANE ULTRA', 'PRED-FORTE (Prednisolone 1%)', 'LOTEMAX 0.5%',\n",
        "                                                'SIMBRINZA (Brinzolamide 10mg + Brimonidine 2mg)', 'HYLO GEL 2mg/ml', 'AZOPT (Brinzolamide 10mg)', 'TIMOLOL-POS 0.3%', 'HYLO-COMOD 1mg/ml',\n",
        "                                                'REFRESH LIQUIGEL', 'COMBIGAN', 'TRAVATAN (BAK FREE)', 'HIALID 0.5%','DUOTRAV', 'GANFORT', 'AZOPT', 'SIMBRINZA 5ML', 'VISMED MULTI',\n",
        "                                                'DUOTRAV (BAK FREE)', 'DIAMOX 250mg', 'GENTAMICIN (0.3%) OINTMENT', 'TAPCOM-S (Tafluprost 15mcg + Timolol 5mg)', 'TIMOLOL-POS 0.10%', 'NEVANAC',\n",
        "                                                'CUSIVIRAL / ACICLOVIR 30mg/g' 'HIALID 0.1', 'NEVANAC (Nepafenac 0.5%)', 'CATIONORM EYE DROP', 'CIPROFLOXACIN (800mg)', 'OMEPRAZOLE 20mg',\n",
        "                                                'CIPROFLOXACIN (500mg)', 'PRED-FORTE', 'VIGAMOX (Moxiflocin HCL 0.5%)', 'CETRIZINE 5mg', 'FUCITHALMIC', 'ALPHAGAN P (0.15%)',\n",
        "                                                'OPTIVE FUSION MD 50ML', 'VIDISIC GEL (Carbomer 2mg)', 'CUSIVIRAL / ACICLOVIR 10mg/g', 'CYCLOGYL', 'NEVANAC ', 'ARCOXIA 90MG'\n",
        "                                                'SYSTANE COMPLETE 10ml', 'LATAPROST 0.005%', 'FUCITHALMIC 5mg/g', 'FML', 'HYLO-COMOD', 'LUMIGAN 0.01%'])\n",
        "\n",
        "    # when 'Submit for checking' is clicked, make the prediction and store it\n",
        "    if st.button(\"Submit for checking\"):\n",
        "        result = output(diagnosis, prescription)\n",
        "        if result == 'Not Voided':\n",
        "            st.success('Diagnosis and prescription is valid')\n",
        "        else:\n",
        "            st.error('Diagnosis and prescription is invalid')"
      ]
    }
  ]
}